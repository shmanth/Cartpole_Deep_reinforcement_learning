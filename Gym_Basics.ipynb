{
  "nbformat": 4,
  "nbformat_minor": 0,
  "metadata": {
    "colab": {
      "provenance": []
    },
    "kernelspec": {
      "name": "python3",
      "display_name": "Python 3"
    },
    "language_info": {
      "name": "python"
    }
  },
  "cells": [
    {
      "cell_type": "code",
      "execution_count": null,
      "metadata": {
        "id": "XU4Ol1seoqjk"
      },
      "outputs": [],
      "source": [
        "import numpy as np\n",
        "import gym\n",
        "import warnings\n",
        "warnings.simplefilter(\"ignore\")"
      ]
    },
    {
      "cell_type": "code",
      "source": [
        "# Environment of the game\n",
        "env= gym.make(\"CartPole-v1\")"
      ],
      "metadata": {
        "id": "9uHzmX1ly_sE"
      },
      "execution_count": null,
      "outputs": []
    },
    {
      "cell_type": "code",
      "source": [
        "#Action Space\n",
        "print(env.action_space)"
      ],
      "metadata": {
        "id": "0V2kOqxny_u3",
        "colab": {
          "base_uri": "https://localhost:8080/"
        },
        "outputId": "4de98f1e-8c8e-4aa1-9f0c-4f5c75bf71ee"
      },
      "execution_count": null,
      "outputs": [
        {
          "output_type": "stream",
          "name": "stdout",
          "text": [
            "Discrete(2)\n"
          ]
        }
      ]
    },
    {
      "cell_type": "code",
      "source": [
        "# State Space\n",
        "print(env.observation_space)"
      ],
      "metadata": {
        "colab": {
          "base_uri": "https://localhost:8080/"
        },
        "id": "gRXytPHAy_yx",
        "outputId": "9effd96f-c490-4c93-fadd-d716b3349d5d"
      },
      "execution_count": null,
      "outputs": [
        {
          "output_type": "stream",
          "name": "stdout",
          "text": [
            "Box([-4.8000002e+00 -3.4028235e+38 -4.1887903e-01 -3.4028235e+38], [4.8000002e+00 3.4028235e+38 4.1887903e-01 3.4028235e+38], (4,), float32)\n"
          ]
        }
      ]
    },
    {
      "cell_type": "code",
      "source": [
        "observation= env.reset()\n",
        "print(observation)"
      ],
      "metadata": {
        "id": "CGJAUdn_y_0y",
        "colab": {
          "base_uri": "https://localhost:8080/"
        },
        "outputId": "10c8c23b-127c-417a-b653-e2c6733226d6"
      },
      "execution_count": null,
      "outputs": [
        {
          "output_type": "stream",
          "name": "stdout",
          "text": [
            "[ 0.02627695  0.04687572 -0.01833086  0.00905845]\n"
          ]
        }
      ]
    },
    {
      "cell_type": "code",
      "source": [
        "# Taking an action in the environment\n",
        "action = env.action_space.sample()\n",
        "observation, reward, done, info = env.step(action)\n",
        "print(observation)\n",
        "print(action)\n",
        "print(reward)"
      ],
      "metadata": {
        "id": "tq7xLFDfy_2j",
        "colab": {
          "base_uri": "https://localhost:8080/"
        },
        "outputId": "fb0623f4-399f-42b2-ba2f-215ac82b0faf"
      },
      "execution_count": null,
      "outputs": [
        {
          "output_type": "stream",
          "name": "stdout",
          "text": [
            "[ 0.02721447 -0.14797862 -0.01814969  0.29590186]\n",
            "0\n",
            "1.0\n"
          ]
        }
      ]
    },
    {
      "cell_type": "code",
      "source": [
        "# Running for few episodes\n",
        "for i in range(20):\n",
        "  observation = env.reset()\n",
        "  total_reward = 0\n",
        "\n",
        "  # Running for t timesteps\n",
        "  for t in range(100):\n",
        "\n",
        "    action = env.action_space.sample()\n",
        "    observation, reward, done, info = env.step(action)\n",
        "    total_reward += reward\n",
        "\n",
        "    if done:\n",
        "      print(\"Episode finished after {} timesteps\".format(t+1))\n",
        "      print(\"Total rewards {0}\".format(total_reward))\n",
        "      break\n",
        "env.close()"
      ],
      "metadata": {
        "id": "_KnJlT_Fy_57",
        "colab": {
          "base_uri": "https://localhost:8080/"
        },
        "outputId": "654b52b9-4aff-4021-c352-ee1f3e237815"
      },
      "execution_count": null,
      "outputs": [
        {
          "output_type": "stream",
          "name": "stdout",
          "text": [
            "Episode finished after 14 timesteps\n",
            "Total rewards 14.0\n",
            "Episode finished after 16 timesteps\n",
            "Total rewards 16.0\n",
            "Episode finished after 12 timesteps\n",
            "Total rewards 12.0\n",
            "Episode finished after 14 timesteps\n",
            "Total rewards 14.0\n",
            "Episode finished after 12 timesteps\n",
            "Total rewards 12.0\n",
            "Episode finished after 16 timesteps\n",
            "Total rewards 16.0\n",
            "Episode finished after 71 timesteps\n",
            "Total rewards 71.0\n",
            "Episode finished after 17 timesteps\n",
            "Total rewards 17.0\n",
            "Episode finished after 31 timesteps\n",
            "Total rewards 31.0\n",
            "Episode finished after 12 timesteps\n",
            "Total rewards 12.0\n",
            "Episode finished after 17 timesteps\n",
            "Total rewards 17.0\n",
            "Episode finished after 88 timesteps\n",
            "Total rewards 88.0\n",
            "Episode finished after 53 timesteps\n",
            "Total rewards 53.0\n",
            "Episode finished after 31 timesteps\n",
            "Total rewards 31.0\n",
            "Episode finished after 13 timesteps\n",
            "Total rewards 13.0\n",
            "Episode finished after 36 timesteps\n",
            "Total rewards 36.0\n",
            "Episode finished after 12 timesteps\n",
            "Total rewards 12.0\n",
            "Episode finished after 18 timesteps\n",
            "Total rewards 18.0\n",
            "Episode finished after 19 timesteps\n",
            "Total rewards 19.0\n",
            "Episode finished after 19 timesteps\n",
            "Total rewards 19.0\n"
          ]
        }
      ]
    },
    {
      "cell_type": "code",
      "source": [],
      "metadata": {
        "id": "k8QOZKkGy_7w"
      },
      "execution_count": null,
      "outputs": []
    },
    {
      "cell_type": "code",
      "source": [],
      "metadata": {
        "id": "-MOTcC4oy__h"
      },
      "execution_count": null,
      "outputs": []
    },
    {
      "cell_type": "code",
      "source": [],
      "metadata": {
        "id": "JdrjvNcbzAB1"
      },
      "execution_count": null,
      "outputs": []
    },
    {
      "cell_type": "code",
      "source": [],
      "metadata": {
        "id": "2CoAtPPXzAEt"
      },
      "execution_count": null,
      "outputs": []
    },
    {
      "cell_type": "code",
      "source": [],
      "metadata": {
        "id": "-QHGVlVnzAHo"
      },
      "execution_count": null,
      "outputs": []
    },
    {
      "cell_type": "code",
      "source": [],
      "metadata": {
        "id": "E1-sLPzVGT5I"
      },
      "execution_count": null,
      "outputs": []
    },
    {
      "cell_type": "code",
      "source": [],
      "metadata": {
        "id": "XCckCKDXGT1m"
      },
      "execution_count": null,
      "outputs": []
    },
    {
      "cell_type": "code",
      "source": [],
      "metadata": {
        "id": "RzHkVvE1GTyb"
      },
      "execution_count": null,
      "outputs": []
    },
    {
      "cell_type": "code",
      "source": [],
      "metadata": {
        "id": "lCX6zKOUGTv6"
      },
      "execution_count": null,
      "outputs": []
    }
  ]
}